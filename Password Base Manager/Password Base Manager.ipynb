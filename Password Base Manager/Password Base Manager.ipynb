{
 "cells": [
  {
   "cell_type": "code",
   "execution_count": 1,
   "metadata": {},
   "outputs": [],
   "source": [
    "import re\n",
    "\n",
    "class BasePasswordManager:\n",
    "    \n",
    "    old_passwords = ['password1', 'password2', 'password3']\n",
    "    current_password = old_passwords[-1]\n",
    "    \n",
    "    def get_password(self):\n",
    "        return 'Your current password: ' + self.old_passwords[-1]\n",
    "    \n",
    "    def is_correct(self):\n",
    "        pwd = str(input(\"Enter you password: \"))\n",
    "        if pwd == self.old_passwords[-1]:\n",
    "            return True\n",
    "        else:\n",
    "            return False\n",
    "        \n",
    "    def set_password(self):\n",
    "        p = input(\"Enter your password: \")\n",
    "        x = True\n",
    "        while x:  \n",
    "            if len(p) < 6:\n",
    "                print(\"Password should be of atleast 6 words.\")\n",
    "                break\n",
    "            elif not re.search(\"[a-z]\",p):\n",
    "                break\n",
    "            elif not re.search(\"[0-9]\",p):\n",
    "                print(\"Password is weak.\")\n",
    "                print(\"Please change your password\")\n",
    "                break\n",
    "            elif not re.search(\"[A-Z]\",p):\n",
    "                print(\"Password in medium\")\n",
    "                print(\"Valid Password\")\n",
    "                print(\"Strong password is prferrable\")\n",
    "                self.old_passwords.append(p)\n",
    "                break\n",
    "            elif not re.search(\"[$#@]\",p):\n",
    "                print(\"Password in medium\")\n",
    "                print(\"Valid Password\")\n",
    "                print(\"Strong password is prferrable\")\n",
    "                self.old_passwords.append(p)\n",
    "                break\n",
    "            elif re.search(\"\\s\",p):\n",
    "                break\n",
    "            else:\n",
    "                print(\"Password is strong\")\n",
    "                print(\"Valid Password\")\n",
    "                self.old_passwords.append(p)\n",
    "                x=False\n",
    "                break\n",
    "                \n",
    "            if x:\n",
    "                print(\"Not a Valid Password\")"
   ]
  },
  {
   "cell_type": "code",
   "execution_count": 2,
   "metadata": {},
   "outputs": [],
   "source": [
    "pwd = BasePasswordManager()"
   ]
  },
  {
   "cell_type": "code",
   "execution_count": 3,
   "metadata": {},
   "outputs": [
    {
     "name": "stdout",
     "output_type": "stream",
     "text": [
      "Your current password: password3\n"
     ]
    }
   ],
   "source": [
    "print(pwd.get_password())"
   ]
  },
  {
   "cell_type": "code",
   "execution_count": 4,
   "metadata": {},
   "outputs": [
    {
     "data": {
      "text/plain": [
       "['password1', 'password2', 'password3']"
      ]
     },
     "execution_count": 4,
     "metadata": {},
     "output_type": "execute_result"
    }
   ],
   "source": [
    "pwd.old_passwords"
   ]
  },
  {
   "cell_type": "code",
   "execution_count": 5,
   "metadata": {},
   "outputs": [
    {
     "name": "stdout",
     "output_type": "stream",
     "text": [
      "Enter you password: password3\n",
      "True\n"
     ]
    }
   ],
   "source": [
    "print(pwd.is_correct())"
   ]
  },
  {
   "cell_type": "code",
   "execution_count": 6,
   "metadata": {},
   "outputs": [
    {
     "name": "stdout",
     "output_type": "stream",
     "text": [
      "Enter your password: Qwerty@123\n",
      "Password is strong\n",
      "Valid Password\n"
     ]
    }
   ],
   "source": [
    "pwd.set_password()"
   ]
  },
  {
   "cell_type": "code",
   "execution_count": 7,
   "metadata": {},
   "outputs": [
    {
     "name": "stdout",
     "output_type": "stream",
     "text": [
      "['password1', 'password2', 'password3', 'Qwerty@123']\n"
     ]
    }
   ],
   "source": [
    "print(pwd.old_passwords)"
   ]
  },
  {
   "cell_type": "code",
   "execution_count": null,
   "metadata": {},
   "outputs": [],
   "source": []
  }
 ],
 "metadata": {
  "kernelspec": {
   "display_name": "Python 3",
   "language": "python",
   "name": "python3"
  },
  "language_info": {
   "codemirror_mode": {
    "name": "ipython",
    "version": 3
   },
   "file_extension": ".py",
   "mimetype": "text/x-python",
   "name": "python",
   "nbconvert_exporter": "python",
   "pygments_lexer": "ipython3",
   "version": "3.8.5"
  }
 },
 "nbformat": 4,
 "nbformat_minor": 4
}
